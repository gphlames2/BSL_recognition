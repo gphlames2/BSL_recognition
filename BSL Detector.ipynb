{
 "cells": [
  {
   "cell_type": "markdown",
   "metadata": {},
   "source": [
    "# 1. Import and Install Dependencies"
   ]
  },
  {
   "cell_type": "code",
   "execution_count": 1,
   "metadata": {},
   "outputs": [],
   "source": [
    "# !pip install tensorflow==2.4.1 tensorflow-gpu==2.4.1 opencv-python mediapipe sklearn matplotlib"
   ]
  },
  {
   "cell_type": "code",
   "execution_count": 1,
   "metadata": {},
   "outputs": [],
   "source": [
    "import cv2\n",
    "import numpy as np\n",
    "import os\n",
    "from matplotlib import pyplot as plt\n",
    "import mediapipe as mp\n",
    "from keras.models import Sequential,load_model\n",
    "from keras.layers import LSTM, Dense, Dropout, GRU, Conv1D, MaxPooling1D, Flatten\n",
    "import pyttsx3 as audio"
   ]
  },
  {
   "cell_type": "code",
   "execution_count": 2,
   "metadata": {},
   "outputs": [],
   "source": [
    "class Braimah:\n",
    "    mp_holistic = mp.solutions.holistic # Holistic model\n",
    "    mp_drawing = mp.solutions.drawing_utils # Drawing utilities\n",
    "    no_sequences = 60 # number of videos per action\n",
    "    frame_length = 30 # length of frames\n",
    "    DATA_PATH: os.path = os.path.join('data_with_gloves')\n",
    "    threshold = 0.9\n",
    "    selected_actions = np.array(['A', 'B', 'C', 'D', 'E', 'F', 'G', 'H', 'I', 'J', 'K', 'L','M','N','O','P','Q','R','S','T','U','V','W','X','Y','Z','dot','space'])\n",
    "\n",
    "    def mediapipe_detection(self,image, model):\n",
    "        img = cv2.cvtColor(image, cv2.COLOR_BGR2RGB) # COLOR CONVERSION BGR 2 RGB\n",
    "        img.flags.writeable = False                  # Image is no longer writeable\n",
    "        res = model.process(image)                 # Make prediction\n",
    "        img.flags.writeable = True                   # Image is now writeable\n",
    "        img = cv2.cvtColor(image, cv2.COLOR_RGB2BGR) # COLOR CONVERSION RGB 2 BGR\n",
    "        return img, res\n",
    "\n",
    "    def draw_styled_landmarks(self, image, results, pose):\n",
    "        if pose:\n",
    "            self.mp_drawing.draw_landmarks(image, results.pose_landmarks, self.mp_holistic.POSE_CONNECTIONS,\n",
    "                                self.mp_drawing.DrawingSpec(color=(80,22,10), thickness=1, circle_radius=4),\n",
    "                                Braimah.mp_drawing.DrawingSpec(color=(80,44,121), thickness=1, circle_radius=2)\n",
    "                                )\n",
    "        else:\n",
    "            pass\n",
    "        # Draw left-hand connections\n",
    "        self.mp_drawing.draw_landmarks(image, results.left_hand_landmarks, self.mp_holistic.HAND_CONNECTIONS,\n",
    "                             self.mp_drawing.DrawingSpec(color=(121,22,76), thickness=2, circle_radius=4),\n",
    "                             self.mp_drawing.DrawingSpec(color=(121,44,250), thickness=2, circle_radius=2)\n",
    "                             )\n",
    "        # Draw right-hand connections\n",
    "        self.mp_drawing.draw_landmarks(image, results.right_hand_landmarks, self.mp_holistic.HAND_CONNECTIONS,\n",
    "                             self.mp_drawing.DrawingSpec(color=(245,117,66), thickness=2, circle_radius=4),\n",
    "                             self.mp_drawing.DrawingSpec(color=(245,66,230), thickness=2, circle_radius=2)\n",
    "                             )\n",
    "    def show_image(self, image):\n",
    "        cv2.imshow('Openfeed CV',image)\n",
    "\n",
    "    def extract_datapoints(self, frame_results, pose):\n",
    "        ps = np.array([[rs.x, rs.y, rs.z, rs.visibility] for rs in frame_results.pose_landmarks.landmark]).flatten() if frame_results.pose_landmarks else np.zeros(132)\n",
    "        lh = np.array([[rs.x, rs.y, rs.z] for rs in frame_results.left_hand_landmarks.landmark]).flatten() if frame_results.left_hand_landmarks else np.zeros(21*3)\n",
    "        rh = np.array([[rs.x, rs.y, rs.z] for rs in frame_results.right_hand_landmarks.landmark]).flatten() if frame_results.right_hand_landmarks else np.zeros(21*3)\n",
    "        if pose:\n",
    "            return np.concatenate([ps, lh, rh])\n",
    "        else:\n",
    "            return np.concatenate([lh,rh])\n",
    "\n",
    "    def create_folders(self):\n",
    "        for action in self.selected_actions:\n",
    "            for sequence in range(self.no_sequences):\n",
    "                try:\n",
    "                    os.makedirs(os.path.join(self.DATA_PATH, action, str(sequence)))\n",
    "                except:\n",
    "                    pass\n",
    "\n",
    "    def create_model(self,model_type, pose):\n",
    "        if pose:\n",
    "            datapoints = 258\n",
    "        else:\n",
    "            datapoints = 126\n",
    "        if model_type == 'LSTM':\n",
    "            model = Sequential()\n",
    "            model.add(LSTM(180, return_sequences=True, activation='tanh', dropout= 0.3, input_shape=(30,datapoints)))\n",
    "            #model.add(LSTM(250, return_sequences=True, activation='tanh', dropout=0.1))\n",
    "            #model.add(LSTM(250, return_sequences=True, activation='tanh',dropout=0.1))\n",
    "            model.add(LSTM(180, return_sequences=False, activation='tanh',dropout=0.3))\n",
    "            model.add(Dense(100, activation='relu'))\n",
    "            model.add(Dropout(0.2))\n",
    "            model.add(Dense(62, activation='relu'))\n",
    "            model.add(Dropout(0.2))\n",
    "            model.add(Dense(self.selected_actions.shape[0], activation='softmax'))\n",
    "            model.compile(optimizer='adam', loss='categorical_crossentropy', metrics=['categorical_accuracy'])\n",
    "            return model\n",
    "        elif model_type == 'CONV1D':\n",
    "            model = Sequential()\n",
    "            model.add(Conv1D(filters=160, kernel_size=3, activation='relu', input_shape=(30,datapoints)))\n",
    "            model.add(MaxPooling1D(pool_size=2))\n",
    "            model.add(Conv1D(filters=160, kernel_size=3, activation='relu'))\n",
    "            model.add(MaxPooling1D(pool_size=2))\n",
    "            model.add(Flatten())\n",
    "            model.add(Dense(100, activation='relu'))\n",
    "            model.add(Dropout(0.2))\n",
    "            model.add(Dense(self.selected_actions.shape[0], activation='softmax'))\n",
    "            model.compile(loss='categorical_crossentropy', optimizer='adam', metrics=['accuracy'])\n",
    "            return model\n",
    "        elif model_type == 'GRU':\n",
    "            model = Sequential()\n",
    "            model.add(GRU(200, return_sequences=True, activation='tanh', input_shape=(30,datapoints),dropout=0.2))\n",
    "            model.add(GRU(400, return_sequences=True, activation='tanh',dropout=0.2))\n",
    "            model.add(GRU(200, return_sequences=False, activation='tanh',dropout=0.2))\n",
    "            #model.add(GRU(1000, return_sequences=True, activation='tanh',dropout=0.1))\n",
    "            #model.add(GRU(400, return_sequences=False, activation='tanh',dropout=0.1))\n",
    "            model.add(Dense(125, activation='relu'))\n",
    "            model.add(Dropout(0.1))\n",
    "            model.add(Dense(64, activation='relu'))\n",
    "            model.add(Dropout(0.1))\n",
    "            model.add(Dense(self.selected_actions.shape[0], activation='softmax'))\n",
    "            model.compile(optimizer='adam', loss='categorical_crossentropy', metrics=['categorical_accuracy'])\n",
    "            return model\n",
    "        else:\n",
    "            pass\n",
    "\n",
    "\n",
    "\n",
    "    @staticmethod\n",
    "    def save_keypoints(data_path,action,sequence_no,frame_num,keypoints):\n",
    "         npy_path = os.path.join(data_path, action, str(sequence_no), str(frame_num))\n",
    "         np.save(npy_path, keypoints)\n",
    "\n",
    "    def model_predict(self, sequence, model, sentence, rf=False):\n",
    "    #   sequence.insert(0,keypoints)\n",
    "        if rf is True:\n",
    "            prediction = model.predict(np.array(sequence[:30]).reshape(-1,30 * 258))\n",
    "            prediction = np.argmax(prediction, axis=1)\n",
    "            print(self.selected_actions[prediction])\n",
    "            if self.selected_actions[prediction] == 'dot':\n",
    "                sentence.append('.')\n",
    "                print(' '.join(sentence))\n",
    "            elif self.selected_actions[np.argmax(prediction)] == 'space':\n",
    "                sentence.append(' ')\n",
    "                print(' '.join(sentence))\n",
    "            else:\n",
    "                sentence.append(self.selected_actions[self.selected_actions[prediction]])\n",
    "                print(' '.join(sentence))\n",
    "        else:\n",
    "            prediction = model.predict(np.expand_dims(sequence[:30], axis=0))[0]\n",
    "            if prediction[np.argmax(prediction)] >= self.threshold :\n",
    "                if self.selected_actions[np.argmax(prediction)] == 'dot':\n",
    "                    sentence.append('.')\n",
    "                    print(' '.join(sentence))\n",
    "                elif self.selected_actions[np.argmax(prediction)] == 'space':\n",
    "                    sentence.append(' ')\n",
    "                    print(' '.join(sentence))\n",
    "                else:\n",
    "                    sentence.append(vision_class.selected_actions[np.argmax(prediction)])\n",
    "                    print(' '.join(sentence))\n",
    "            else:\n",
    "                pass"
   ]
  },
  {
   "cell_type": "markdown",
   "metadata": {},
   "source": [
    "# 2. Keypoints using MP Holistic"
   ]
  },
  {
   "cell_type": "markdown",
   "metadata": {},
   "source": []
  },
  {
   "cell_type": "code",
   "execution_count": 3,
   "metadata": {},
   "outputs": [],
   "source": [
    "vision_class = Braimah()\n",
    "is_pose = True"
   ]
  },
  {
   "cell_type": "code",
   "execution_count": 4,
   "metadata": {},
   "outputs": [],
   "source": [
    "cap = cv2.VideoCapture(0)\n",
    "# Set mediapipe model\n",
    "with vision_class.mp_holistic.Holistic(static_image_mode=False, min_detection_confidence=0.7,min_tracking_confidence=0.7) as holistic:\n",
    "    while cap.isOpened():\n",
    "        # Read feed\n",
    "        _, frame = cap.read()\n",
    "        # Make detections\n",
    "        image, results = vision_class.mediapipe_detection(frame, holistic)\n",
    "        # Draw landmarks\n",
    "        vision_class.draw_styled_landmarks(image, results, is_pose)\n",
    "        # Show to screen\n",
    "        cv2.imshow('OpenCV Feed', cv2.cvtColor(image,cv2.COLOR_BGR2RGB))\n",
    "        # Break gracefully\n",
    "        if cv2.waitKey(10) & 0xFF == ord('q'):\n",
    "            break\n",
    "    cap.release()\n",
    "    cv2.destroyAllWindows()"
   ]
  },
  {
   "cell_type": "code",
   "execution_count": 4,
   "metadata": {},
   "outputs": [
    {
     "ename": "NameError",
     "evalue": "name 'frame' is not defined",
     "output_type": "error",
     "traceback": [
      "\u001B[1;31m---------------------------------------------------------------------------\u001B[0m",
      "\u001B[1;31mNameError\u001B[0m                                 Traceback (most recent call last)",
      "Cell \u001B[1;32mIn [4], line 1\u001B[0m\n\u001B[1;32m----> 1\u001B[0m vision_class\u001B[38;5;241m.\u001B[39mdraw_styled_landmarks(\u001B[43mframe\u001B[49m, results)\n",
      "\u001B[1;31mNameError\u001B[0m: name 'frame' is not defined"
     ]
    }
   ],
   "source": [
    "vision_class.draw_styled_landmarks(frame, results)"
   ]
  },
  {
   "cell_type": "code",
   "execution_count": null,
   "metadata": {},
   "outputs": [],
   "source": [
    "plt.imshow(cv2.cvtColor(frame, cv2.COLOR_BGR2RGB))"
   ]
  },
  {
   "cell_type": "markdown",
   "metadata": {},
   "source": [
    "# 3. Extract Keypoint Values"
   ]
  },
  {
   "cell_type": "code",
   "execution_count": null,
   "metadata": {},
   "outputs": [],
   "source": [
    "#print('left and right hand landmarks have {} points'.format(len(results.left_hand_landmarks.landmark)))\n",
    "#print('Pose land marks has {} points'.format(len(results.pose_landmarks.landmark)))"
   ]
  },
  {
   "cell_type": "code",
   "execution_count": null,
   "metadata": {},
   "outputs": [],
   "source": [
    "result_test = vision_class.extract_datapoints(results)"
   ]
  },
  {
   "cell_type": "code",
   "execution_count": null,
   "metadata": {},
   "outputs": [],
   "source": [
    "#result_test"
   ]
  },
  {
   "cell_type": "code",
   "execution_count": null,
   "metadata": {},
   "outputs": [],
   "source": [
    "np.save('0', result_test)"
   ]
  },
  {
   "cell_type": "code",
   "execution_count": null,
   "metadata": {},
   "outputs": [],
   "source": [
    "np.load('0.npy').shape"
   ]
  },
  {
   "cell_type": "markdown",
   "metadata": {},
   "source": [
    "# 4. Setup Folders for Collection"
   ]
  },
  {
   "cell_type": "code",
   "execution_count": 6,
   "metadata": {},
   "outputs": [],
   "source": [
    "vision_class.create_folders()"
   ]
  },
  {
   "cell_type": "markdown",
   "metadata": {},
   "source": [
    "# 5. Collect Keypoint Values for Training and Testing"
   ]
  },
  {
   "cell_type": "code",
   "execution_count": 231,
   "metadata": {},
   "outputs": [],
   "source": [
    "cap = cv2.VideoCapture(0)\n",
    "# Set mediapipe model\n",
    "singular_action = ['M']\n",
    "frame_num = 0\n",
    "with vision_class.mp_holistic.Holistic(static_image_mode=True, min_detection_confidence=0.6) as holistic:\n",
    "    # Loop through actions\n",
    "    for action in singular_action:\n",
    "        # Loop through sequences aka videos\n",
    "        for sequence in range(vision_class.no_sequences):\n",
    "            # Loop through video length aka sequence length\n",
    "            try:\n",
    "                if sequence == 0:\n",
    "                    _, first_frame = cap.read()\n",
    "                    cv2.putText(first_frame, 'Collecting frames for {} sequence Number {}'.format(action, sequence), (15,12),cv2.FONT_HERSHEY_SIMPLEX, 0.5, (0, 0, 255), 1, cv2.LINE_AA)\n",
    "                    cv2.imshow('OpenCV Feed', first_frame)\n",
    "                    cv2.waitKey(5000)\n",
    "                while frame_num < 30:\n",
    "                    # Read feed\n",
    "                    _, frame = cap.read()\n",
    "                    # Make detections\n",
    "                    image, results = vision_class.mediapipe_detection(frame, holistic)\n",
    "\n",
    "                    # Draw landmarks\n",
    "                    vision_class.draw_styled_landmarks(frame, results, is_pose)\n",
    "                    cv2.putText(frame, 'Collecting frames for {} sequence Number {}'.format(action, sequence), (15,12),cv2.FONT_HERSHEY_SIMPLEX, 0.5, (0, 0, 255), 1, cv2.LINE_AA)\n",
    "                    cv2.imshow('OpenCV Feed', frame)\n",
    "\n",
    "                    # NEW Export keypoints\n",
    "                    keypoints = vision_class.extract_datapoints(results,is_pose)\n",
    "                    Braimah.save_keypoints(vision_class.DATA_PATH,action,sequence,frame_num,keypoints)\n",
    "                    frame_num += 1\n",
    "                    # Break gracefully\n",
    "                frame_num = 0\n",
    "            except RuntimeError as e :\n",
    "                print(e)\n",
    "\n",
    "            if cv2.waitKey(10) & 0xFF == ord('q'):\n",
    "                break\n",
    "\n",
    "    cap.release()\n",
    "    cv2.destroyAllWindows()\n"
   ]
  },
  {
   "cell_type": "markdown",
   "metadata": {},
   "source": [
    "# 6. Preprocess Data and Create Labels and Features"
   ]
  },
  {
   "cell_type": "code",
   "execution_count": 5,
   "metadata": {},
   "outputs": [],
   "source": [
    "from sklearn.model_selection import train_test_split\n",
    "from keras.utils import to_categorical"
   ]
  },
  {
   "cell_type": "code",
   "execution_count": 6,
   "metadata": {},
   "outputs": [],
   "source": [
    "label_map = {label:num for num, label in enumerate(vision_class.selected_actions)}"
   ]
  },
  {
   "cell_type": "markdown",
   "metadata": {},
   "source": []
  },
  {
   "cell_type": "code",
   "execution_count": 7,
   "metadata": {},
   "outputs": [
    {
     "data": {
      "text/plain": "{'A': 0,\n 'B': 1,\n 'C': 2,\n 'D': 3,\n 'E': 4,\n 'F': 5,\n 'G': 6,\n 'H': 7,\n 'I': 8,\n 'J': 9,\n 'K': 10,\n 'L': 11,\n 'M': 12,\n 'N': 13,\n 'O': 14,\n 'P': 15,\n 'Q': 16,\n 'R': 17,\n 'S': 18,\n 'T': 19,\n 'U': 20,\n 'V': 21,\n 'W': 22,\n 'X': 23,\n 'Y': 24,\n 'Z': 25,\n 'dot': 26,\n 'space': 27}"
     },
     "execution_count": 7,
     "metadata": {},
     "output_type": "execute_result"
    }
   ],
   "source": [
    "label_map"
   ]
  },
  {
   "cell_type": "code",
   "execution_count": 8,
   "metadata": {},
   "outputs": [],
   "source": [
    "sequences, labels = [], []\n",
    "for action in vision_class.selected_actions:\n",
    "    for sequence in range(vision_class.no_sequences):\n",
    "        window = []\n",
    "        for frame_num in range(vision_class.frame_length):\n",
    "            res = np.load(os.path.join(vision_class.DATA_PATH, action, str(sequence), \n",
    "                                       \"{}.npy\".format(frame_num)))\n",
    "            window.append(res)\n",
    "        sequences.append(window)\n",
    "        labels.append(label_map[action])"
   ]
  },
  {
   "cell_type": "code",
   "execution_count": 9,
   "metadata": {},
   "outputs": [
    {
     "data": {
      "text/plain": "(1680, 30, 258)"
     },
     "execution_count": 9,
     "metadata": {},
     "output_type": "execute_result"
    }
   ],
   "source": [
    "X = np.array(sequences)\n",
    "X.shape"
   ]
  },
  {
   "cell_type": "code",
   "execution_count": 10,
   "metadata": {},
   "outputs": [
    {
     "data": {
      "text/plain": "array([[1, 0, 0, ..., 0, 0, 0],\n       [1, 0, 0, ..., 0, 0, 0],\n       [1, 0, 0, ..., 0, 0, 0],\n       ...,\n       [0, 0, 0, ..., 0, 0, 1],\n       [0, 0, 0, ..., 0, 0, 1],\n       [0, 0, 0, ..., 0, 0, 1]])"
     },
     "execution_count": 10,
     "metadata": {},
     "output_type": "execute_result"
    }
   ],
   "source": [
    "y = to_categorical(labels).astype(int)\n",
    "y"
   ]
  },
  {
   "cell_type": "code",
   "execution_count": 11,
   "metadata": {},
   "outputs": [],
   "source": [
    "X_train, X_test, y_train, y_test = train_test_split(X, y, test_size=0.10)"
   ]
  },
  {
   "cell_type": "code",
   "execution_count": 12,
   "metadata": {},
   "outputs": [
    {
     "data": {
      "text/plain": "(1512, 30, 258)"
     },
     "execution_count": 12,
     "metadata": {},
     "output_type": "execute_result"
    }
   ],
   "source": [
    "X_train.shape"
   ]
  },
  {
   "cell_type": "code",
   "execution_count": 13,
   "metadata": {},
   "outputs": [
    {
     "data": {
      "text/plain": "(168, 28)"
     },
     "execution_count": 13,
     "metadata": {},
     "output_type": "execute_result"
    }
   ],
   "source": [
    "y_test.shape"
   ]
  },
  {
   "cell_type": "code",
   "execution_count": 14,
   "metadata": {},
   "outputs": [
    {
     "data": {
      "text/plain": "(1512, 28)"
     },
     "execution_count": 14,
     "metadata": {},
     "output_type": "execute_result"
    }
   ],
   "source": [
    "y_train.shape"
   ]
  },
  {
   "cell_type": "markdown",
   "metadata": {},
   "source": [
    "# 7. Build and Train Neural Networks"
   ]
  },
  {
   "cell_type": "markdown",
   "metadata": {},
   "source": []
  },
  {
   "cell_type": "code",
   "execution_count": 15,
   "metadata": {},
   "outputs": [],
   "source": [
    "model = vision_class.create_model(model_type='GRU',pose=is_pose)"
   ]
  },
  {
   "cell_type": "code",
   "execution_count": 16,
   "metadata": {},
   "outputs": [
    {
     "name": "stdout",
     "output_type": "stream",
     "text": [
      "Model: \"sequential\"\n",
      "_________________________________________________________________\n",
      " Layer (type)                Output Shape              Param #   \n",
      "=================================================================\n",
      " gru (GRU)                   (None, 30, 200)           276000    \n",
      "                                                                 \n",
      " gru_1 (GRU)                 (None, 30, 400)           722400    \n",
      "                                                                 \n",
      " gru_2 (GRU)                 (None, 200)               361200    \n",
      "                                                                 \n",
      " dense (Dense)               (None, 125)               25125     \n",
      "                                                                 \n",
      " dropout (Dropout)           (None, 125)               0         \n",
      "                                                                 \n",
      " dense_1 (Dense)             (None, 64)                8064      \n",
      "                                                                 \n",
      " dropout_1 (Dropout)         (None, 64)                0         \n",
      "                                                                 \n",
      " dense_2 (Dense)             (None, 28)                1820      \n",
      "                                                                 \n",
      "=================================================================\n",
      "Total params: 1,394,609\n",
      "Trainable params: 1,394,609\n",
      "Non-trainable params: 0\n",
      "_________________________________________________________________\n"
     ]
    }
   ],
   "source": [
    "model.summary()"
   ]
  },
  {
   "cell_type": "code",
   "execution_count": 17,
   "metadata": {},
   "outputs": [
    {
     "name": "stdout",
     "output_type": "stream",
     "text": [
      "Epoch 1/70\n",
      "43/43 [==============================] - 9s 41ms/step - loss: 3.1362 - categorical_accuracy: 0.0809 - val_loss: 2.5205 - val_categorical_accuracy: 0.2105\n",
      "Epoch 2/70\n",
      "43/43 [==============================] - 1s 15ms/step - loss: 2.2169 - categorical_accuracy: 0.3088 - val_loss: 1.5637 - val_categorical_accuracy: 0.5197\n",
      "Epoch 3/70\n",
      "43/43 [==============================] - 1s 14ms/step - loss: 1.4293 - categorical_accuracy: 0.5235 - val_loss: 1.0456 - val_categorical_accuracy: 0.6382\n",
      "Epoch 4/70\n",
      "43/43 [==============================] - 1s 15ms/step - loss: 1.0504 - categorical_accuracy: 0.6544 - val_loss: 0.5041 - val_categorical_accuracy: 0.8487\n",
      "Epoch 5/70\n",
      "43/43 [==============================] - 1s 16ms/step - loss: 0.5100 - categorical_accuracy: 0.8360 - val_loss: 0.2266 - val_categorical_accuracy: 0.9342\n",
      "Epoch 6/70\n",
      "43/43 [==============================] - 1s 16ms/step - loss: 0.6081 - categorical_accuracy: 0.8037 - val_loss: 0.5200 - val_categorical_accuracy: 0.8158\n",
      "Epoch 7/70\n",
      "43/43 [==============================] - 1s 16ms/step - loss: 0.4150 - categorical_accuracy: 0.8647 - val_loss: 0.2022 - val_categorical_accuracy: 0.9539\n",
      "Epoch 8/70\n",
      "43/43 [==============================] - 1s 16ms/step - loss: 0.2898 - categorical_accuracy: 0.9147 - val_loss: 0.1079 - val_categorical_accuracy: 0.9803\n",
      "Epoch 9/70\n",
      "43/43 [==============================] - 1s 15ms/step - loss: 0.2504 - categorical_accuracy: 0.9250 - val_loss: 0.1691 - val_categorical_accuracy: 0.9539\n",
      "Epoch 10/70\n",
      "43/43 [==============================] - 1s 15ms/step - loss: 0.3674 - categorical_accuracy: 0.8721 - val_loss: 0.2814 - val_categorical_accuracy: 0.9013\n",
      "Epoch 11/70\n",
      "43/43 [==============================] - 1s 15ms/step - loss: 0.2300 - categorical_accuracy: 0.9279 - val_loss: 0.2480 - val_categorical_accuracy: 0.9079\n",
      "Epoch 12/70\n",
      "43/43 [==============================] - 1s 14ms/step - loss: 0.2228 - categorical_accuracy: 0.9221 - val_loss: 0.1221 - val_categorical_accuracy: 0.9737\n",
      "Epoch 13/70\n",
      "43/43 [==============================] - 1s 15ms/step - loss: 0.1045 - categorical_accuracy: 0.9684 - val_loss: 0.0728 - val_categorical_accuracy: 0.9803\n",
      "Epoch 14/70\n",
      "43/43 [==============================] - 1s 14ms/step - loss: 0.2974 - categorical_accuracy: 0.9132 - val_loss: 0.2438 - val_categorical_accuracy: 0.9145\n",
      "Epoch 15/70\n",
      "43/43 [==============================] - 1s 16ms/step - loss: 0.2073 - categorical_accuracy: 0.9360 - val_loss: 0.1038 - val_categorical_accuracy: 0.9737\n",
      "Epoch 16/70\n",
      "43/43 [==============================] - 1s 16ms/step - loss: 0.1677 - categorical_accuracy: 0.9522 - val_loss: 0.0903 - val_categorical_accuracy: 0.9737\n",
      "Epoch 17/70\n",
      "43/43 [==============================] - 1s 15ms/step - loss: 0.0824 - categorical_accuracy: 0.9809 - val_loss: 0.0539 - val_categorical_accuracy: 0.9868\n",
      "Epoch 18/70\n",
      "43/43 [==============================] - 1s 15ms/step - loss: 0.2062 - categorical_accuracy: 0.9375 - val_loss: 0.1365 - val_categorical_accuracy: 0.9671\n",
      "Epoch 19/70\n",
      "43/43 [==============================] - 1s 16ms/step - loss: 0.1224 - categorical_accuracy: 0.9574 - val_loss: 0.1760 - val_categorical_accuracy: 0.9342\n",
      "Epoch 20/70\n",
      "43/43 [==============================] - 1s 14ms/step - loss: 0.2328 - categorical_accuracy: 0.9279 - val_loss: 0.0935 - val_categorical_accuracy: 0.9671\n",
      "Epoch 21/70\n",
      "43/43 [==============================] - 1s 15ms/step - loss: 0.1478 - categorical_accuracy: 0.9544 - val_loss: 0.1101 - val_categorical_accuracy: 0.9737\n",
      "Epoch 22/70\n",
      "43/43 [==============================] - 1s 15ms/step - loss: 0.1488 - categorical_accuracy: 0.9471 - val_loss: 0.1605 - val_categorical_accuracy: 0.9539\n",
      "Epoch 23/70\n",
      "43/43 [==============================] - 1s 15ms/step - loss: 0.1696 - categorical_accuracy: 0.9456 - val_loss: 0.0622 - val_categorical_accuracy: 0.9868\n",
      "Epoch 24/70\n",
      "43/43 [==============================] - 1s 15ms/step - loss: 0.0414 - categorical_accuracy: 0.9890 - val_loss: 0.0525 - val_categorical_accuracy: 0.9934\n",
      "Epoch 25/70\n",
      "43/43 [==============================] - 1s 16ms/step - loss: 0.1193 - categorical_accuracy: 0.9662 - val_loss: 0.2037 - val_categorical_accuracy: 0.9605\n",
      "Epoch 26/70\n",
      "43/43 [==============================] - 1s 16ms/step - loss: 0.1115 - categorical_accuracy: 0.9713 - val_loss: 0.1572 - val_categorical_accuracy: 0.9671\n",
      "Epoch 27/70\n",
      "43/43 [==============================] - 1s 15ms/step - loss: 0.1897 - categorical_accuracy: 0.9471 - val_loss: 0.1083 - val_categorical_accuracy: 0.9737\n",
      "Epoch 28/70\n",
      "43/43 [==============================] - 1s 16ms/step - loss: 0.1499 - categorical_accuracy: 0.9500 - val_loss: 0.1371 - val_categorical_accuracy: 0.9605\n",
      "Epoch 29/70\n",
      "43/43 [==============================] - 1s 14ms/step - loss: 0.0876 - categorical_accuracy: 0.9684 - val_loss: 0.0554 - val_categorical_accuracy: 0.9868\n",
      "Epoch 30/70\n",
      "43/43 [==============================] - 1s 15ms/step - loss: 0.0279 - categorical_accuracy: 0.9934 - val_loss: 0.0667 - val_categorical_accuracy: 0.9868\n",
      "Epoch 31/70\n",
      "43/43 [==============================] - 1s 15ms/step - loss: 0.0269 - categorical_accuracy: 0.9926 - val_loss: 0.0468 - val_categorical_accuracy: 0.9934\n",
      "Epoch 32/70\n",
      "43/43 [==============================] - 1s 14ms/step - loss: 0.0837 - categorical_accuracy: 0.9757 - val_loss: 0.0617 - val_categorical_accuracy: 0.9934\n",
      "Epoch 33/70\n",
      "43/43 [==============================] - 1s 15ms/step - loss: 0.0409 - categorical_accuracy: 0.9860 - val_loss: 0.0351 - val_categorical_accuracy: 0.9934\n",
      "Epoch 34/70\n",
      "43/43 [==============================] - 1s 15ms/step - loss: 0.2797 - categorical_accuracy: 0.9279 - val_loss: 0.1108 - val_categorical_accuracy: 0.9671\n",
      "Epoch 35/70\n",
      "43/43 [==============================] - 1s 15ms/step - loss: 0.1628 - categorical_accuracy: 0.9485 - val_loss: 0.1037 - val_categorical_accuracy: 0.9605\n",
      "Epoch 36/70\n",
      "43/43 [==============================] - 1s 15ms/step - loss: 0.0446 - categorical_accuracy: 0.9875 - val_loss: 0.0633 - val_categorical_accuracy: 0.9868\n",
      "Epoch 37/70\n",
      "43/43 [==============================] - 1s 15ms/step - loss: 0.0265 - categorical_accuracy: 0.9926 - val_loss: 0.0945 - val_categorical_accuracy: 0.9868\n",
      "Epoch 38/70\n",
      "43/43 [==============================] - 1s 15ms/step - loss: 0.0149 - categorical_accuracy: 0.9963 - val_loss: 0.0686 - val_categorical_accuracy: 0.9868\n",
      "Epoch 39/70\n",
      "43/43 [==============================] - 1s 14ms/step - loss: 0.0096 - categorical_accuracy: 0.9978 - val_loss: 0.0505 - val_categorical_accuracy: 0.9934\n",
      "Epoch 40/70\n",
      "43/43 [==============================] - 1s 15ms/step - loss: 0.0163 - categorical_accuracy: 0.9963 - val_loss: 0.0767 - val_categorical_accuracy: 0.9868\n",
      "Epoch 41/70\n",
      "43/43 [==============================] - 1s 15ms/step - loss: 0.0422 - categorical_accuracy: 0.9912 - val_loss: 0.0911 - val_categorical_accuracy: 0.9737\n",
      "Epoch 42/70\n",
      "43/43 [==============================] - 1s 15ms/step - loss: 0.0554 - categorical_accuracy: 0.9897 - val_loss: 0.0603 - val_categorical_accuracy: 0.9868\n",
      "Epoch 43/70\n",
      "43/43 [==============================] - 1s 15ms/step - loss: 0.1609 - categorical_accuracy: 0.9581 - val_loss: 0.9452 - val_categorical_accuracy: 0.8816\n",
      "Epoch 44/70\n",
      "43/43 [==============================] - 1s 15ms/step - loss: 0.2201 - categorical_accuracy: 0.9485 - val_loss: 0.0974 - val_categorical_accuracy: 0.9737\n",
      "Epoch 45/70\n",
      "43/43 [==============================] - 1s 15ms/step - loss: 0.1907 - categorical_accuracy: 0.9478 - val_loss: 0.0744 - val_categorical_accuracy: 0.9934\n",
      "Epoch 46/70\n",
      "43/43 [==============================] - 1s 15ms/step - loss: 0.0643 - categorical_accuracy: 0.9860 - val_loss: 0.0811 - val_categorical_accuracy: 0.9803\n",
      "Epoch 47/70\n",
      "43/43 [==============================] - 1s 15ms/step - loss: 0.0406 - categorical_accuracy: 0.9904 - val_loss: 0.0314 - val_categorical_accuracy: 0.9934\n",
      "Epoch 48/70\n",
      "43/43 [==============================] - 1s 15ms/step - loss: 0.0538 - categorical_accuracy: 0.9846 - val_loss: 0.0587 - val_categorical_accuracy: 0.9868\n",
      "Epoch 49/70\n",
      "43/43 [==============================] - 1s 15ms/step - loss: 0.2285 - categorical_accuracy: 0.9412 - val_loss: 0.1324 - val_categorical_accuracy: 0.9803\n",
      "Epoch 50/70\n",
      "43/43 [==============================] - 1s 14ms/step - loss: 0.1734 - categorical_accuracy: 0.9529 - val_loss: 0.1472 - val_categorical_accuracy: 0.9605\n",
      "Epoch 51/70\n",
      "43/43 [==============================] - 1s 15ms/step - loss: 0.0690 - categorical_accuracy: 0.9750 - val_loss: 0.0558 - val_categorical_accuracy: 0.9868\n",
      "Epoch 52/70\n",
      "43/43 [==============================] - 1s 15ms/step - loss: 0.1093 - categorical_accuracy: 0.9757 - val_loss: 0.0730 - val_categorical_accuracy: 0.9868\n",
      "Epoch 53/70\n",
      "43/43 [==============================] - 1s 15ms/step - loss: 0.0318 - categorical_accuracy: 0.9934 - val_loss: 0.0517 - val_categorical_accuracy: 0.9934\n",
      "Epoch 54/70\n",
      "43/43 [==============================] - 1s 14ms/step - loss: 0.0356 - categorical_accuracy: 0.9912 - val_loss: 0.0627 - val_categorical_accuracy: 0.9803\n",
      "Epoch 55/70\n",
      "43/43 [==============================] - 1s 15ms/step - loss: 0.0558 - categorical_accuracy: 0.9846 - val_loss: 0.0889 - val_categorical_accuracy: 0.9803\n",
      "Epoch 56/70\n",
      "43/43 [==============================] - 1s 14ms/step - loss: 0.0355 - categorical_accuracy: 0.9882 - val_loss: 0.0615 - val_categorical_accuracy: 0.9934\n",
      "Epoch 57/70\n",
      "43/43 [==============================] - 1s 15ms/step - loss: 0.0794 - categorical_accuracy: 0.9765 - val_loss: 0.0413 - val_categorical_accuracy: 0.9803\n",
      "Epoch 58/70\n",
      "43/43 [==============================] - 1s 14ms/step - loss: 0.1626 - categorical_accuracy: 0.9522 - val_loss: 0.0546 - val_categorical_accuracy: 0.9934\n",
      "Epoch 59/70\n",
      "43/43 [==============================] - 1s 15ms/step - loss: 0.0596 - categorical_accuracy: 0.9838 - val_loss: 0.0393 - val_categorical_accuracy: 0.9934\n",
      "Epoch 60/70\n",
      "43/43 [==============================] - 1s 15ms/step - loss: 0.0277 - categorical_accuracy: 0.9934 - val_loss: 0.0584 - val_categorical_accuracy: 0.9934\n",
      "Epoch 61/70\n",
      "43/43 [==============================] - 1s 15ms/step - loss: 0.0167 - categorical_accuracy: 0.9963 - val_loss: 0.0827 - val_categorical_accuracy: 0.9803\n",
      "Epoch 62/70\n",
      "43/43 [==============================] - 1s 15ms/step - loss: 0.0214 - categorical_accuracy: 0.9949 - val_loss: 0.0500 - val_categorical_accuracy: 0.9934\n",
      "Epoch 63/70\n",
      "43/43 [==============================] - 1s 16ms/step - loss: 0.0119 - categorical_accuracy: 0.9971 - val_loss: 0.0462 - val_categorical_accuracy: 0.9934\n",
      "Epoch 64/70\n",
      "43/43 [==============================] - 1s 17ms/step - loss: 0.0809 - categorical_accuracy: 0.9743 - val_loss: 0.0300 - val_categorical_accuracy: 0.9934\n",
      "Epoch 65/70\n",
      "43/43 [==============================] - 1s 17ms/step - loss: 0.1157 - categorical_accuracy: 0.9662 - val_loss: 0.0500 - val_categorical_accuracy: 0.9934\n",
      "Epoch 66/70\n",
      "43/43 [==============================] - 1s 18ms/step - loss: 0.0268 - categorical_accuracy: 0.9912 - val_loss: 0.0722 - val_categorical_accuracy: 0.9803\n",
      "Epoch 67/70\n",
      "43/43 [==============================] - 1s 16ms/step - loss: 0.0795 - categorical_accuracy: 0.9750 - val_loss: 0.1375 - val_categorical_accuracy: 0.9539\n",
      "Epoch 68/70\n",
      "43/43 [==============================] - 1s 16ms/step - loss: 0.0592 - categorical_accuracy: 0.9846 - val_loss: 0.0769 - val_categorical_accuracy: 0.9803\n",
      "Epoch 69/70\n",
      "43/43 [==============================] - 1s 17ms/step - loss: 0.0224 - categorical_accuracy: 0.9904 - val_loss: 0.1089 - val_categorical_accuracy: 0.9868\n",
      "Epoch 70/70\n",
      "43/43 [==============================] - 1s 16ms/step - loss: 0.2845 - categorical_accuracy: 0.9235 - val_loss: 0.3250 - val_categorical_accuracy: 0.9079\n"
     ]
    }
   ],
   "source": [
    "from keras.callbacks import EarlyStopping\n",
    "#early_stopping = EarlyStopping(monitor='val_loss',patience=10,mode='min',restore_best_weights=True, baseline=0.99)\n",
    "history = model.fit(X_train, y_train,validation_split= 0.1,epochs=70)"
   ]
  },
  {
   "cell_type": "markdown",
   "metadata": {},
   "source": []
  },
  {
   "cell_type": "code",
   "execution_count": 18,
   "metadata": {},
   "outputs": [
    {
     "data": {
      "text/plain": "<matplotlib.legend.Legend at 0x21413c6f700>"
     },
     "execution_count": 18,
     "metadata": {},
     "output_type": "execute_result"
    },
    {
     "data": {
      "text/plain": "<Figure size 640x480 with 1 Axes>",
      "image/png": "[encoded data removed]"
     },
     "metadata": {},
     "output_type": "display_data"
    }
   ],
   "source": [
    "import matplotlib.pyplot as plt\n",
    "plt.plot(history.history['loss'])\n",
    "plt.plot(history.history['val_loss'])\n",
    "plt.title('Conv1D loss plot')\n",
    "plt.ylabel('loss')\n",
    "plt.xlabel('epochs')\n",
    "plt.legend(['loss','val_loss'], loc='upper left')"
   ]
  },
  {
   "cell_type": "code",
   "execution_count": 26,
   "metadata": {},
   "outputs": [
    {
     "data": {
      "text/plain": "<matplotlib.legend.Legend at 0x2b8052c6f10>"
     },
     "execution_count": 26,
     "metadata": {},
     "output_type": "execute_result"
    },
    {
     "data": {
      "text/plain": "<Figure size 432x288 with 1 Axes>",
      "image/png": "[encoded data removed]"
     },
     "metadata": {
      "needs_background": "light"
     },
     "output_type": "display_data"
    }
   ],
   "source": [
    "import matplotlib.pyplot as plt\n",
    "plt.plot(history.history['val_accuracy'])\n",
    "plt.plot(history.history['val_loss'])\n",
    "plt.title('LSTM loss vs accuracy plot')\n",
    "#plt.ylim((0,5))\n",
    "plt.ylabel('accuracy')\n",
    "plt.xlabel('epochs')\n",
    "plt.legend(['val_accuracy','val_loss'], loc='upper left')"
   ]
  },
  {
   "cell_type": "markdown",
   "metadata": {},
   "source": [
    "# 8. Make Predictions"
   ]
  },
  {
   "cell_type": "code",
   "execution_count": 27,
   "metadata": {},
   "outputs": [
    {
     "name": "stdout",
     "output_type": "stream",
     "text": [
      "6/6 [==============================] - 0s 56ms/step\n"
     ]
    }
   ],
   "source": [
    "result = model.predict(X_test)"
   ]
  },
  {
   "cell_type": "code",
   "execution_count": 29,
   "metadata": {},
   "outputs": [
    {
     "data": {
      "text/plain": "'B'"
     },
     "execution_count": 29,
     "metadata": {},
     "output_type": "execute_result"
    }
   ],
   "source": [
    "vision_class.selected_actions[np.argmax(result[2])]"
   ]
  },
  {
   "cell_type": "code",
   "execution_count": 19,
   "metadata": {},
   "outputs": [
    {
     "data": {
      "text/plain": "array([6.80671484e-15, 2.16641216e-09, 1.59764443e-12, 1.39515519e-08,\n       7.01346536e-08, 1.12836078e-05, 7.42461478e-15, 6.53732346e-10,\n       2.06298591e-06, 9.64631825e-16, 3.06622978e-12, 4.48164624e-15,\n       2.24035864e-13, 1.91586994e-14, 9.99959946e-01, 1.17993338e-07,\n       4.06369554e-06, 4.16253844e-14, 1.06012005e-11, 3.99292659e-13,\n       2.20065031e-05, 1.92686524e-13, 1.20504737e-07, 3.13930457e-07,\n       3.00692492e-11, 6.97016347e-08, 4.94351449e-10, 8.73127308e-13],\n      dtype=float32)"
     },
     "execution_count": 19,
     "metadata": {},
     "output_type": "execute_result"
    }
   ],
   "source": [
    "result[2]"
   ]
  },
  {
   "cell_type": "code",
   "execution_count": 75,
   "metadata": {},
   "outputs": [
    {
     "data": {
      "text/plain": "'A'"
     },
     "execution_count": 75,
     "metadata": {},
     "output_type": "execute_result"
    }
   ],
   "source": [
    "vision_class.selected_actions[np.argmax([.7, .2, .1])]"
   ]
  },
  {
   "cell_type": "code",
   "execution_count": 28,
   "metadata": {},
   "outputs": [
    {
     "data": {
      "text/plain": "'B'"
     },
     "execution_count": 28,
     "metadata": {},
     "output_type": "execute_result"
    }
   ],
   "source": [
    "vision_class.selected_actions[np.argmax(y_test[2])]"
   ]
  },
  {
   "cell_type": "markdown",
   "metadata": {},
   "source": [
    "# 9. Save Weights"
   ]
  },
  {
   "cell_type": "code",
   "execution_count": 30,
   "metadata": {},
   "outputs": [],
   "source": [
    "model.save('data_gloves_CONV1D_pose.h5')"
   ]
  },
  {
   "cell_type": "code",
   "execution_count": 31,
   "outputs": [],
   "source": [
    "del model"
   ],
   "metadata": {
    "collapsed": false
   }
  },
  {
   "cell_type": "code",
   "execution_count": 32,
   "metadata": {},
   "outputs": [],
   "source": [
    "model = load_model('data_gloves_CONV1D_pose.h5')"
   ]
  },
  {
   "cell_type": "markdown",
   "metadata": {},
   "source": [
    "# 10. Evaluation using Confusion Matrix and Accuracy"
   ]
  },
  {
   "cell_type": "code",
   "execution_count": 33,
   "metadata": {},
   "outputs": [],
   "source": [
    "from sklearn.metrics import multilabel_confusion_matrix, accuracy_score, classification_report"
   ]
  },
  {
   "cell_type": "code",
   "execution_count": 34,
   "metadata": {},
   "outputs": [
    {
     "name": "stdout",
     "output_type": "stream",
     "text": [
      "6/6 [==============================] - 0s 3ms/step\n"
     ]
    }
   ],
   "source": [
    "y_predict = model.predict(X_test)"
   ]
  },
  {
   "cell_type": "code",
   "execution_count": 35,
   "metadata": {},
   "outputs": [],
   "source": [
    "ytrue = np.argmax(y_test, axis=1).tolist()\n",
    "y_predict = np.argmax(y_predict, axis=1).tolist()"
   ]
  },
  {
   "cell_type": "code",
   "execution_count": 36,
   "metadata": {},
   "outputs": [
    {
     "data": {
      "text/plain": "array([[[161,   0],\n        [  0,   7]],\n\n       [[160,   2],\n        [  0,   6]],\n\n       [[165,   0],\n        [  0,   3]],\n\n       [[163,   0],\n        [  0,   5]],\n\n       [[161,   0],\n        [  2,   5]],\n\n       [[162,   0],\n        [  0,   6]],\n\n       [[165,   0],\n        [  0,   3]],\n\n       [[159,   0],\n        [  0,   9]],\n\n       [[162,   0],\n        [  0,   6]],\n\n       [[162,   0],\n        [  0,   6]],\n\n       [[163,   0],\n        [  0,   5]],\n\n       [[164,   0],\n        [  0,   4]],\n\n       [[160,   0],\n        [  0,   8]],\n\n       [[163,   0],\n        [  0,   5]],\n\n       [[159,   0],\n        [  0,   9]],\n\n       [[162,   0],\n        [  0,   6]],\n\n       [[164,   0],\n        [  0,   4]],\n\n       [[167,   0],\n        [  0,   1]],\n\n       [[162,   0],\n        [  0,   6]],\n\n       [[158,   0],\n        [  0,  10]],\n\n       [[164,   0],\n        [  0,   4]],\n\n       [[155,   0],\n        [  0,  13]],\n\n       [[161,   0],\n        [  0,   7]],\n\n       [[164,   0],\n        [  0,   4]],\n\n       [[163,   0],\n        [  0,   5]],\n\n       [[159,   1],\n        [  0,   8]],\n\n       [[163,   0],\n        [  0,   5]],\n\n       [[162,   0],\n        [  1,   5]]], dtype=int64)"
     },
     "execution_count": 36,
     "metadata": {},
     "output_type": "execute_result"
    }
   ],
   "source": [
    "cf = multilabel_confusion_matrix(ytrue, y_predict)\n",
    "cf"
   ]
  },
  {
   "cell_type": "code",
   "execution_count": 37,
   "metadata": {},
   "outputs": [
    {
     "data": {
      "text/plain": "0.9821428571428571"
     },
     "execution_count": 37,
     "metadata": {},
     "output_type": "execute_result"
    }
   ],
   "source": [
    "accuracy_score(ytrue, y_predict)"
   ]
  },
  {
   "cell_type": "code",
   "execution_count": 38,
   "outputs": [],
   "source": [
    "import seaborn as sns\n",
    "import pandas as pd\n",
    "import matplotlib.pyplot as plt\n",
    "\n",
    "def print_confusion_matrix(confusion_matrix, axes, class_label, class_names, fontsize=14):\n",
    "\n",
    "    df_cm = pd.DataFrame(\n",
    "        confusion_matrix, index=class_names, columns=class_names,\n",
    "    )\n",
    "\n",
    "    try:\n",
    "        heatmap = sns.heatmap(df_cm, annot=True, fmt=\"d\", cbar=False, ax=axes)\n",
    "    except ValueError:\n",
    "        raise ValueError(\"Confusion matrix values must be integers.\")\n",
    "    heatmap.yaxis.set_ticklabels(heatmap.yaxis.get_ticklabels(), rotation=0, ha='right', fontsize=fontsize)\n",
    "    heatmap.xaxis.set_ticklabels(heatmap.xaxis.get_ticklabels(), rotation=45, ha='right', fontsize=fontsize)\n",
    "    axes.set_ylabel('True label')\n",
    "    axes.set_xlabel('Predicted label')\n",
    "    axes.set_title(\"class - \" + class_label)"
   ],
   "metadata": {
    "collapsed": false
   }
  },
  {
   "cell_type": "code",
   "execution_count": 39,
   "outputs": [
    {
     "data": {
      "text/plain": "<Figure size 720x1440 with 28 Axes>",
      "image/png": "[encoded data removed]"
     },
     "metadata": {
      "needs_background": "light"
     },
     "output_type": "display_data"
    }
   ],
   "source": [
    "\n",
    "fig, ax = plt.subplots(7, 4, figsize=(10, 20))\n",
    "for axes, cfs_matrix, label in zip(ax.flatten(), cf, vision_class.selected_actions):\n",
    "    print_confusion_matrix(cfs_matrix, axes, label, [\"P\", \"N\"])\n",
    "fig.tight_layout()\n",
    "plt.show()\n",
    "\n",
    "#cf_df = pd.DataFrame(cf, index=vision_class.selected_actions, columns=vision_class.selected_actions)\n",
    "#sk.metrics.plot_confusion_matrix(ytrue,y_predict,figsize=(20,20))"
   ],
   "metadata": {
    "collapsed": false
   }
  },
  {
   "cell_type": "code",
   "execution_count": null,
   "outputs": [],
   "source": [],
   "metadata": {
    "collapsed": false
   }
  },
  {
   "cell_type": "code",
   "execution_count": 40,
   "metadata": {},
   "outputs": [
    {
     "name": "stdout",
     "output_type": "stream",
     "text": [
      "              precision    recall  f1-score   support\n",
      "\n",
      "           0       1.00      1.00      1.00         7\n",
      "           1       0.75      1.00      0.86         6\n",
      "           2       1.00      1.00      1.00         3\n",
      "           3       1.00      1.00      1.00         5\n",
      "           4       1.00      0.71      0.83         7\n",
      "           5       1.00      1.00      1.00         6\n",
      "           6       1.00      1.00      1.00         3\n",
      "           7       1.00      1.00      1.00         9\n",
      "           8       1.00      1.00      1.00         6\n",
      "           9       1.00      1.00      1.00         6\n",
      "          10       1.00      1.00      1.00         5\n",
      "          11       1.00      1.00      1.00         4\n",
      "          12       1.00      1.00      1.00         8\n",
      "          13       1.00      1.00      1.00         5\n",
      "          14       1.00      1.00      1.00         9\n",
      "          15       1.00      1.00      1.00         6\n",
      "          16       1.00      1.00      1.00         4\n",
      "          17       1.00      1.00      1.00         1\n",
      "          18       1.00      1.00      1.00         6\n",
      "          19       1.00      1.00      1.00        10\n",
      "          20       1.00      1.00      1.00         4\n",
      "          21       1.00      1.00      1.00        13\n",
      "          22       1.00      1.00      1.00         7\n",
      "          23       1.00      1.00      1.00         4\n",
      "          24       1.00      1.00      1.00         5\n",
      "          25       0.89      1.00      0.94         8\n",
      "          26       1.00      1.00      1.00         5\n",
      "          27       1.00      0.83      0.91         6\n",
      "\n",
      "    accuracy                           0.98       168\n",
      "   macro avg       0.99      0.98      0.98       168\n",
      "weighted avg       0.99      0.98      0.98       168\n",
      "\n"
     ]
    }
   ],
   "source": [
    "print(classification_report(ytrue,y_predict))"
   ]
  },
  {
   "cell_type": "markdown",
   "metadata": {},
   "source": [
    "# 11. Test in Real Time"
   ]
  },
  {
   "cell_type": "code",
   "execution_count": null,
   "metadata": {},
   "outputs": [],
   "source": [
    "# 1. New detection variables\n",
    "frame_sequence = []\n",
    "sentence = []\n",
    "\n",
    "cap = cv2.VideoCapture(0)\n",
    "# Set mediapipe model \n",
    "with vision_class.mp_holistic.Holistic(min_detection_confidence=0.6, min_tracking_confidence=0.6) as holistic:\n",
    "        while cap.isOpened():\n",
    "            _, frame = cap.read()\n",
    "            image, result = vision_class.mediapipe_detection(frame, holistic)\n",
    "            if result.right_hand_landmarks is None and result.left_hand_landmarks is None:\n",
    "                frame_sequence.clear()\n",
    "                count = 0\n",
    "                vision_class.draw_styled_landmarks(image, result, is_pose)\n",
    "                cv2.imshow('Testing feed', cv2.cvtColor(image, cv2.COLOR_BGR2RGB))\n",
    "                if cv2.waitKey(10) & 0xFF == ord('q'):\n",
    "                    break\n",
    "                continue\n",
    "            else:\n",
    "                vision_class.draw_styled_landmarks(image, result, is_pose)\n",
    "                key_points = vision_class.extract_datapoints(result, is_pose)\n",
    "                frame_sequence.append(key_points)\n",
    "                cv2.imshow('Testing feed', cv2.cvtColor(image,cv2.COLOR_BGR2RGB))\n",
    "                count += 1\n",
    "                if cv2.waitKey(10) & 0xFF == ord('q'):\n",
    "                    break\n",
    "            if count == 30:\n",
    "                vision_class.model_predict(frame_sequence, model, sentence, False)\n",
    "                if len(sentence) == 0:\n",
    "                    pass\n",
    "                else:\n",
    "                    if sentence[len(sentence) - 1] == '.':\n",
    "                        sentence.pop()\n",
    "                        audio.speak(''.join(sentence))\n",
    "                        sentence.clear()\n",
    "                    else:\n",
    "                        pass\n",
    "                count = 0\n",
    "cap.release()\n",
    "cv2.destroyAllWindows()"
   ]
  }
 ],
 "metadata": {
  "kernelspec": {
   "display_name": "Python 3 (ipykernel)",
   "language": "python",
   "name": "python3"
  },
  "language_info": {
   "codemirror_mode": {
    "name": "ipython",
    "version": 3
   },
   "file_extension": ".py",
   "mimetype": "text/x-python",
   "name": "python",
   "nbconvert_exporter": "python",
   "pygments_lexer": "ipython3",
   "version": "3.8.0"
  }
 },
 "nbformat": 4,
 "nbformat_minor": 2
}
